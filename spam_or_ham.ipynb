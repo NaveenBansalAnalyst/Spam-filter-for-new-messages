{
 "cells": [
  {
   "cell_type": "markdown",
   "id": "73868f52",
   "metadata": {},
   "source": [
    "# Spam or Not Spam!!!"
   ]
  },
  {
   "cell_type": "markdown",
   "id": "a92c9a27",
   "metadata": {},
   "source": [
    "In this project, we will try to make a spam filter which categorizes a new message as either spam or not a spam. We will be using a real world dataset of more than 5000 messages which have already been classified by humans as spam/not-spam. We will then teach the computer how the humans classify a message and use that human knowledge to estimate probabilities for new messages — probabilities for spam and non-spam.\n",
    "\n",
    "We will be using multinomial Naive Bayes algorithm to build the spam filter for messages."
   ]
  },
  {
   "cell_type": "markdown",
   "id": "e662365c",
   "metadata": {},
   "source": [
    "# Reading in the dataset"
   ]
  },
  {
   "cell_type": "code",
   "execution_count": 1,
   "id": "20ae7c23",
   "metadata": {
    "scrolled": true
   },
   "outputs": [
    {
     "name": "stdout",
     "output_type": "stream",
     "text": [
      "  label                                                SMS\n",
      "0   ham  Go until jurong point, crazy.. Available only ...\n",
      "1   ham                      Ok lar... Joking wif u oni...\n",
      "2  spam  Free entry in 2 a wkly comp to win FA Cup fina...\n",
      "3   ham  U dun say so early hor... U c already then say...\n",
      "4   ham  Nah I don't think he goes to usf, he lives aro...\n",
      "(5572, 2)\n"
     ]
    }
   ],
   "source": [
    "import pandas as pd\n",
    "\n",
    "messages = pd.read_csv(r'C:\\Users\\nbnav\\OneDrive\\Desktop\\Dataquest\\spamorham.txt', sep='\\t', header=None,\n",
    "                       names=['label', 'SMS'])\n",
    "\n",
    "print(messages.head())\n",
    "print(messages.shape)"
   ]
  },
  {
   "cell_type": "markdown",
   "id": "dc34d5b6",
   "metadata": {},
   "source": [
    "Note that 'ham' here means non-spam."
   ]
  },
  {
   "cell_type": "markdown",
   "id": "56094c55",
   "metadata": {},
   "source": [
    "Let's see what percentage of messages are spam and what percentage of messages are non-spam. This will give us P(S) and P(H)."
   ]
  },
  {
   "cell_type": "code",
   "execution_count": 2,
   "id": "47641f82",
   "metadata": {},
   "outputs": [
    {
     "name": "stdout",
     "output_type": "stream",
     "text": [
      "ham     86.593683\n",
      "spam    13.406317\n",
      "Name: label, dtype: float64\n"
     ]
    }
   ],
   "source": [
    "label_value_counts = messages['label'].value_counts(normalize=True) * 100\n",
    "print(label_value_counts)"
   ]
  },
  {
   "cell_type": "markdown",
   "id": "4aeb276d",
   "metadata": {},
   "source": [
    "We can see that almost 86.6% of messages are non-spam while only 13.4% of messages are spam which makes P(H) = 0.86 and P(S) = 0.13."
   ]
  },
  {
   "cell_type": "markdown",
   "id": "d8fc1f5e",
   "metadata": {},
   "source": [
    "# Testing the spam filter"
   ]
  },
  {
   "cell_type": "markdown",
   "id": "ed6fbfca",
   "metadata": {},
   "source": [
    "Before creating a spam filter, it's very helpful to first think of a way of testing how well it works. When creating software (a spam filter is software), a good rule of thumb is that designing the test comes before creating the software. If we write the software first, then it's tempting to come up with a biased test just to make sure the software passes it.\n",
    "\n",
    "\n",
    "Once our spam filter is done, we'll need to test how good it is with classifying new messages. To test the spam filter, we're first going to split our dataset into two categories:\n",
    "\n",
    "* A training set, which we'll use to \"train\" the computer how to classify messages.\n",
    "* A test set, which we'll use to test how good the spam filter is with classifying new messages.\n",
    "\n",
    "\n",
    "We're going to keep 80% of our dataset for training, and 20% for testing (we want to train the algorithm on as much data as possible, but we also want to have enough test data). The dataset has 5,572 messages, which means that:\n",
    "\n",
    "The training set will have 4,458 messages (about 80% of the dataset).\n",
    "\n",
    "The test set will have 1,114 messages (about 20% of the dataset)."
   ]
  },
  {
   "cell_type": "markdown",
   "id": "d64a2505",
   "metadata": {},
   "source": [
    "Our goal is to create a spam filter that classifies new messages with an accuracy greater than 80% — so we expect that more than 80% of the new messages will be classified correctly as spam or ham (non-spam)."
   ]
  },
  {
   "cell_type": "markdown",
   "id": "421fccc1",
   "metadata": {},
   "source": [
    "# Splitting the dataset"
   ]
  },
  {
   "cell_type": "markdown",
   "id": "5134fe4e",
   "metadata": {},
   "source": [
    "We're going to start by randomizing the entire dataset to ensure that spam and ham messages are spread properly throughout the dataset."
   ]
  },
  {
   "cell_type": "code",
   "execution_count": 3,
   "id": "ebe87841",
   "metadata": {},
   "outputs": [
    {
     "name": "stdout",
     "output_type": "stream",
     "text": [
      "     label                                                SMS\n",
      "1078   ham                       Yep, by the pretty sculpture\n",
      "4028   ham      Yes, princess. Are you going to make me moan?\n",
      "958    ham                         Welp apparently he retired\n",
      "4642   ham                                            Havent.\n",
      "4674   ham  I forgot 2 ask ü all smth.. There's a card on ...\n"
     ]
    }
   ],
   "source": [
    "random_data = messages.sample(frac=1, random_state=1)\n",
    "print(random_data.head())"
   ]
  },
  {
   "cell_type": "code",
   "execution_count": 4,
   "id": "9460660b",
   "metadata": {},
   "outputs": [],
   "source": [
    "random_data.reset_index(drop=True, inplace=True)"
   ]
  },
  {
   "cell_type": "code",
   "execution_count": 5,
   "id": "ec8ea294",
   "metadata": {},
   "outputs": [],
   "source": [
    "training_data = random_data[:4458]\n",
    "test_data = random_data[4458:5572]"
   ]
  },
  {
   "cell_type": "code",
   "execution_count": 6,
   "id": "ecd18743",
   "metadata": {},
   "outputs": [
    {
     "name": "stdout",
     "output_type": "stream",
     "text": [
      "(4458, 2)\n",
      "(1114, 2)\n"
     ]
    }
   ],
   "source": [
    "print(training_data.shape)\n",
    "print(test_data.shape)"
   ]
  },
  {
   "cell_type": "code",
   "execution_count": 7,
   "id": "76030bcb",
   "metadata": {},
   "outputs": [
    {
     "data": {
      "text/html": [
       "<div>\n",
       "<style scoped>\n",
       "    .dataframe tbody tr th:only-of-type {\n",
       "        vertical-align: middle;\n",
       "    }\n",
       "\n",
       "    .dataframe tbody tr th {\n",
       "        vertical-align: top;\n",
       "    }\n",
       "\n",
       "    .dataframe thead th {\n",
       "        text-align: right;\n",
       "    }\n",
       "</style>\n",
       "<table border=\"1\" class=\"dataframe\">\n",
       "  <thead>\n",
       "    <tr style=\"text-align: right;\">\n",
       "      <th></th>\n",
       "      <th>label</th>\n",
       "      <th>SMS</th>\n",
       "    </tr>\n",
       "  </thead>\n",
       "  <tbody>\n",
       "    <tr>\n",
       "      <th>0</th>\n",
       "      <td>ham</td>\n",
       "      <td>Yep, by the pretty sculpture</td>\n",
       "    </tr>\n",
       "    <tr>\n",
       "      <th>1</th>\n",
       "      <td>ham</td>\n",
       "      <td>Yes, princess. Are you going to make me moan?</td>\n",
       "    </tr>\n",
       "    <tr>\n",
       "      <th>2</th>\n",
       "      <td>ham</td>\n",
       "      <td>Welp apparently he retired</td>\n",
       "    </tr>\n",
       "    <tr>\n",
       "      <th>3</th>\n",
       "      <td>ham</td>\n",
       "      <td>Havent.</td>\n",
       "    </tr>\n",
       "    <tr>\n",
       "      <th>4</th>\n",
       "      <td>ham</td>\n",
       "      <td>I forgot 2 ask ü all smth.. There's a card on ...</td>\n",
       "    </tr>\n",
       "  </tbody>\n",
       "</table>\n",
       "</div>"
      ],
      "text/plain": [
       "  label                                                SMS\n",
       "0   ham                       Yep, by the pretty sculpture\n",
       "1   ham      Yes, princess. Are you going to make me moan?\n",
       "2   ham                         Welp apparently he retired\n",
       "3   ham                                            Havent.\n",
       "4   ham  I forgot 2 ask ü all smth.. There's a card on ..."
      ]
     },
     "execution_count": 7,
     "metadata": {},
     "output_type": "execute_result"
    }
   ],
   "source": [
    "training_data.head()"
   ]
  },
  {
   "cell_type": "markdown",
   "id": "94e7125d",
   "metadata": {},
   "source": [
    "Let's do a value count of the 'label' column again and see if it resembles the original dataset."
   ]
  },
  {
   "cell_type": "code",
   "execution_count": 8,
   "id": "27eff49b",
   "metadata": {},
   "outputs": [
    {
     "name": "stdout",
     "output_type": "stream",
     "text": [
      "ham     86.54105\n",
      "spam    13.45895\n",
      "Name: label, dtype: float64\n",
      "ham     86.804309\n",
      "spam    13.195691\n",
      "Name: label, dtype: float64\n"
     ]
    }
   ],
   "source": [
    "train_value_count = training_data['label'].value_counts(normalize=True) * 100\n",
    "test_value_count = test_data['label'].value_counts(normalize=True) * 100\n",
    "print(train_value_count)\n",
    "print(test_value_count)"
   ]
  },
  {
   "cell_type": "markdown",
   "id": "62b89aeb",
   "metadata": {},
   "source": [
    "Both datasets, training and test, closely resembles the oriningal percentage of spam and non-spam messages and would be a good fit for our spam filter."
   ]
  },
  {
   "cell_type": "markdown",
   "id": "16eddc11",
   "metadata": {},
   "source": [
    "# Cleaning the data"
   ]
  },
  {
   "cell_type": "markdown",
   "id": "a9cb186a",
   "metadata": {},
   "source": [
    "Let's remove all the punctuations and make every letter lowercase."
   ]
  },
  {
   "cell_type": "code",
   "execution_count": 9,
   "id": "a34fe0d7",
   "metadata": {},
   "outputs": [],
   "source": [
    "import warnings\n",
    "warnings.simplefilter('ignore')\n",
    "\n",
    "training_data['SMS'] = training_data['SMS'].str.replace('\\W', ' ')\n",
    "training_data['SMS'] = training_data['SMS'].str.lower()"
   ]
  },
  {
   "cell_type": "markdown",
   "id": "fa79122f",
   "metadata": {},
   "source": [
    "Let's check the training_data head again"
   ]
  },
  {
   "cell_type": "code",
   "execution_count": 10,
   "id": "1855422a",
   "metadata": {},
   "outputs": [
    {
     "data": {
      "text/html": [
       "<div>\n",
       "<style scoped>\n",
       "    .dataframe tbody tr th:only-of-type {\n",
       "        vertical-align: middle;\n",
       "    }\n",
       "\n",
       "    .dataframe tbody tr th {\n",
       "        vertical-align: top;\n",
       "    }\n",
       "\n",
       "    .dataframe thead th {\n",
       "        text-align: right;\n",
       "    }\n",
       "</style>\n",
       "<table border=\"1\" class=\"dataframe\">\n",
       "  <thead>\n",
       "    <tr style=\"text-align: right;\">\n",
       "      <th></th>\n",
       "      <th>label</th>\n",
       "      <th>SMS</th>\n",
       "    </tr>\n",
       "  </thead>\n",
       "  <tbody>\n",
       "    <tr>\n",
       "      <th>0</th>\n",
       "      <td>ham</td>\n",
       "      <td>yep  by the pretty sculpture</td>\n",
       "    </tr>\n",
       "    <tr>\n",
       "      <th>1</th>\n",
       "      <td>ham</td>\n",
       "      <td>yes  princess  are you going to make me moan</td>\n",
       "    </tr>\n",
       "    <tr>\n",
       "      <th>2</th>\n",
       "      <td>ham</td>\n",
       "      <td>welp apparently he retired</td>\n",
       "    </tr>\n",
       "    <tr>\n",
       "      <th>3</th>\n",
       "      <td>ham</td>\n",
       "      <td>havent</td>\n",
       "    </tr>\n",
       "    <tr>\n",
       "      <th>4</th>\n",
       "      <td>ham</td>\n",
       "      <td>i forgot 2 ask ü all smth   there s a card on ...</td>\n",
       "    </tr>\n",
       "  </tbody>\n",
       "</table>\n",
       "</div>"
      ],
      "text/plain": [
       "  label                                                SMS\n",
       "0   ham                       yep  by the pretty sculpture\n",
       "1   ham      yes  princess  are you going to make me moan \n",
       "2   ham                         welp apparently he retired\n",
       "3   ham                                            havent \n",
       "4   ham  i forgot 2 ask ü all smth   there s a card on ..."
      ]
     },
     "execution_count": 10,
     "metadata": {},
     "output_type": "execute_result"
    }
   ],
   "source": [
    "training_data.head()"
   ]
  },
  {
   "cell_type": "markdown",
   "id": "cad76dbc",
   "metadata": {},
   "source": [
    "# Creating the vocabulary"
   ]
  },
  {
   "cell_type": "markdown",
   "id": "9d93ea41",
   "metadata": {},
   "source": [
    "Let's create a list of all the unique words there are in these messages"
   ]
  },
  {
   "cell_type": "code",
   "execution_count": 11,
   "id": "d8304699",
   "metadata": {},
   "outputs": [],
   "source": [
    "training_data['SMS'] = training_data['SMS'].str.split()"
   ]
  },
  {
   "cell_type": "code",
   "execution_count": 12,
   "id": "0b48c650",
   "metadata": {},
   "outputs": [],
   "source": [
    "vocabulary = []\n",
    "\n",
    "for sms in training_data['SMS']:\n",
    "    for word in sms:\n",
    "        vocabulary.append(word)"
   ]
  },
  {
   "cell_type": "markdown",
   "id": "ed042d40",
   "metadata": {},
   "source": [
    "We would need to remove duplicates from the vocabulary list. One way to do it is to convert it into a set. We can convert it back into a list to continue our project."
   ]
  },
  {
   "cell_type": "code",
   "execution_count": 13,
   "id": "636b028c",
   "metadata": {},
   "outputs": [
    {
     "name": "stdout",
     "output_type": "stream",
     "text": [
      "72427\n"
     ]
    }
   ],
   "source": [
    "print(len(vocabulary))"
   ]
  },
  {
   "cell_type": "code",
   "execution_count": 14,
   "id": "7b259c83",
   "metadata": {},
   "outputs": [
    {
     "name": "stdout",
     "output_type": "stream",
     "text": [
      "7783\n"
     ]
    }
   ],
   "source": [
    "vocabulary = set(vocabulary)\n",
    "vocabulary = list(vocabulary)\n",
    "print(len(vocabulary))"
   ]
  },
  {
   "cell_type": "markdown",
   "id": "d719e7cb",
   "metadata": {},
   "source": [
    "We have 7783 unique words in our dataset."
   ]
  },
  {
   "cell_type": "markdown",
   "id": "155f399a",
   "metadata": {},
   "source": [
    "To calculate all the probabilities required by the algorithm, we will need to bring the data to this format :-"
   ]
  },
  {
   "attachments": {
    "required_format.png": {
     "image/png": "[encoded data removed]"
    }
   },
   "cell_type": "markdown",
   "id": "859fef7c",
   "metadata": {},
   "source": [
    "![required_format.png](attachment:required_format.png)"
   ]
  },
  {
   "cell_type": "markdown",
   "id": "70923d8f",
   "metadata": {},
   "source": [
    "Since we have 7783 unique words in our vocabulary, we are gonna have 7783 columns in our dataset.YES 7783!!"
   ]
  },
  {
   "cell_type": "code",
   "execution_count": 15,
   "id": "0cbf733a",
   "metadata": {},
   "outputs": [],
   "source": [
    "word_counts_per_sms = {}\n",
    "for unique_word in vocabulary:\n",
    "    word_counts_per_sms[unique_word] = [0] * len(training_data['SMS'])\n",
    "\n",
    "for index, sms in enumerate(training_data['SMS']):\n",
    "    for word in sms:\n",
    "        word_counts_per_sms[word][index] += 1"
   ]
  },
  {
   "cell_type": "markdown",
   "id": "17a551ef",
   "metadata": {},
   "source": [
    "Let's transform the resulting dictionary into a dataframe."
   ]
  },
  {
   "cell_type": "code",
   "execution_count": 16,
   "id": "d4f8c36b",
   "metadata": {},
   "outputs": [
    {
     "data": {
      "text/html": [
       "<div>\n",
       "<style scoped>\n",
       "    .dataframe tbody tr th:only-of-type {\n",
       "        vertical-align: middle;\n",
       "    }\n",
       "\n",
       "    .dataframe tbody tr th {\n",
       "        vertical-align: top;\n",
       "    }\n",
       "\n",
       "    .dataframe thead th {\n",
       "        text-align: right;\n",
       "    }\n",
       "</style>\n",
       "<table border=\"1\" class=\"dataframe\">\n",
       "  <thead>\n",
       "    <tr style=\"text-align: right;\">\n",
       "      <th></th>\n",
       "      <th>faggy</th>\n",
       "      <th>andros</th>\n",
       "      <th>infra</th>\n",
       "      <th>kit</th>\n",
       "      <th>skirt</th>\n",
       "      <th>p</th>\n",
       "      <th>deciding</th>\n",
       "      <th>wavering</th>\n",
       "      <th>sisters</th>\n",
       "      <th>ba</th>\n",
       "      <th>...</th>\n",
       "      <th>failed</th>\n",
       "      <th>hyde</th>\n",
       "      <th>exeter</th>\n",
       "      <th>wrong</th>\n",
       "      <th>president</th>\n",
       "      <th>useful</th>\n",
       "      <th>upto</th>\n",
       "      <th>pissed</th>\n",
       "      <th>m95</th>\n",
       "      <th>goin2bed</th>\n",
       "    </tr>\n",
       "  </thead>\n",
       "  <tbody>\n",
       "    <tr>\n",
       "      <th>0</th>\n",
       "      <td>0</td>\n",
       "      <td>0</td>\n",
       "      <td>0</td>\n",
       "      <td>0</td>\n",
       "      <td>0</td>\n",
       "      <td>0</td>\n",
       "      <td>0</td>\n",
       "      <td>0</td>\n",
       "      <td>0</td>\n",
       "      <td>0</td>\n",
       "      <td>...</td>\n",
       "      <td>0</td>\n",
       "      <td>0</td>\n",
       "      <td>0</td>\n",
       "      <td>0</td>\n",
       "      <td>0</td>\n",
       "      <td>0</td>\n",
       "      <td>0</td>\n",
       "      <td>0</td>\n",
       "      <td>0</td>\n",
       "      <td>0</td>\n",
       "    </tr>\n",
       "    <tr>\n",
       "      <th>1</th>\n",
       "      <td>0</td>\n",
       "      <td>0</td>\n",
       "      <td>0</td>\n",
       "      <td>0</td>\n",
       "      <td>0</td>\n",
       "      <td>0</td>\n",
       "      <td>0</td>\n",
       "      <td>0</td>\n",
       "      <td>0</td>\n",
       "      <td>0</td>\n",
       "      <td>...</td>\n",
       "      <td>0</td>\n",
       "      <td>0</td>\n",
       "      <td>0</td>\n",
       "      <td>0</td>\n",
       "      <td>0</td>\n",
       "      <td>0</td>\n",
       "      <td>0</td>\n",
       "      <td>0</td>\n",
       "      <td>0</td>\n",
       "      <td>0</td>\n",
       "    </tr>\n",
       "    <tr>\n",
       "      <th>2</th>\n",
       "      <td>0</td>\n",
       "      <td>0</td>\n",
       "      <td>0</td>\n",
       "      <td>0</td>\n",
       "      <td>0</td>\n",
       "      <td>0</td>\n",
       "      <td>0</td>\n",
       "      <td>0</td>\n",
       "      <td>0</td>\n",
       "      <td>0</td>\n",
       "      <td>...</td>\n",
       "      <td>0</td>\n",
       "      <td>0</td>\n",
       "      <td>0</td>\n",
       "      <td>0</td>\n",
       "      <td>0</td>\n",
       "      <td>0</td>\n",
       "      <td>0</td>\n",
       "      <td>0</td>\n",
       "      <td>0</td>\n",
       "      <td>0</td>\n",
       "    </tr>\n",
       "    <tr>\n",
       "      <th>3</th>\n",
       "      <td>0</td>\n",
       "      <td>0</td>\n",
       "      <td>0</td>\n",
       "      <td>0</td>\n",
       "      <td>0</td>\n",
       "      <td>0</td>\n",
       "      <td>0</td>\n",
       "      <td>0</td>\n",
       "      <td>0</td>\n",
       "      <td>0</td>\n",
       "      <td>...</td>\n",
       "      <td>0</td>\n",
       "      <td>0</td>\n",
       "      <td>0</td>\n",
       "      <td>0</td>\n",
       "      <td>0</td>\n",
       "      <td>0</td>\n",
       "      <td>0</td>\n",
       "      <td>0</td>\n",
       "      <td>0</td>\n",
       "      <td>0</td>\n",
       "    </tr>\n",
       "    <tr>\n",
       "      <th>4</th>\n",
       "      <td>0</td>\n",
       "      <td>0</td>\n",
       "      <td>0</td>\n",
       "      <td>0</td>\n",
       "      <td>0</td>\n",
       "      <td>0</td>\n",
       "      <td>0</td>\n",
       "      <td>0</td>\n",
       "      <td>0</td>\n",
       "      <td>0</td>\n",
       "      <td>...</td>\n",
       "      <td>0</td>\n",
       "      <td>0</td>\n",
       "      <td>0</td>\n",
       "      <td>0</td>\n",
       "      <td>0</td>\n",
       "      <td>0</td>\n",
       "      <td>0</td>\n",
       "      <td>0</td>\n",
       "      <td>0</td>\n",
       "      <td>0</td>\n",
       "    </tr>\n",
       "  </tbody>\n",
       "</table>\n",
       "<p>5 rows × 7783 columns</p>\n",
       "</div>"
      ],
      "text/plain": [
       "   faggy  andros  infra  kit  skirt  p  deciding  wavering  sisters  ba  ...  \\\n",
       "0      0       0      0    0      0  0         0         0        0   0  ...   \n",
       "1      0       0      0    0      0  0         0         0        0   0  ...   \n",
       "2      0       0      0    0      0  0         0         0        0   0  ...   \n",
       "3      0       0      0    0      0  0         0         0        0   0  ...   \n",
       "4      0       0      0    0      0  0         0         0        0   0  ...   \n",
       "\n",
       "   failed  hyde  exeter  wrong  president  useful  upto  pissed  m95  goin2bed  \n",
       "0       0     0       0      0          0       0     0       0    0         0  \n",
       "1       0     0       0      0          0       0     0       0    0         0  \n",
       "2       0     0       0      0          0       0     0       0    0         0  \n",
       "3       0     0       0      0          0       0     0       0    0         0  \n",
       "4       0     0       0      0          0       0     0       0    0         0  \n",
       "\n",
       "[5 rows x 7783 columns]"
      ]
     },
     "execution_count": 16,
     "metadata": {},
     "output_type": "execute_result"
    }
   ],
   "source": [
    "word_counts = pd.DataFrame(word_counts_per_sms)\n",
    "word_counts.head()"
   ]
  },
  {
   "cell_type": "markdown",
   "id": "fb574e07",
   "metadata": {},
   "source": [
    "As expected we have 7783 columns in our dataset. Now let's join this dataset with our training dataset with has the label column."
   ]
  },
  {
   "cell_type": "code",
   "execution_count": 17,
   "id": "2e69b142",
   "metadata": {},
   "outputs": [
    {
     "data": {
      "text/html": [
       "<div>\n",
       "<style scoped>\n",
       "    .dataframe tbody tr th:only-of-type {\n",
       "        vertical-align: middle;\n",
       "    }\n",
       "\n",
       "    .dataframe tbody tr th {\n",
       "        vertical-align: top;\n",
       "    }\n",
       "\n",
       "    .dataframe thead th {\n",
       "        text-align: right;\n",
       "    }\n",
       "</style>\n",
       "<table border=\"1\" class=\"dataframe\">\n",
       "  <thead>\n",
       "    <tr style=\"text-align: right;\">\n",
       "      <th></th>\n",
       "      <th>label</th>\n",
       "      <th>SMS</th>\n",
       "      <th>faggy</th>\n",
       "      <th>andros</th>\n",
       "      <th>infra</th>\n",
       "      <th>kit</th>\n",
       "      <th>skirt</th>\n",
       "      <th>p</th>\n",
       "      <th>deciding</th>\n",
       "      <th>wavering</th>\n",
       "      <th>...</th>\n",
       "      <th>failed</th>\n",
       "      <th>hyde</th>\n",
       "      <th>exeter</th>\n",
       "      <th>wrong</th>\n",
       "      <th>president</th>\n",
       "      <th>useful</th>\n",
       "      <th>upto</th>\n",
       "      <th>pissed</th>\n",
       "      <th>m95</th>\n",
       "      <th>goin2bed</th>\n",
       "    </tr>\n",
       "  </thead>\n",
       "  <tbody>\n",
       "    <tr>\n",
       "      <th>0</th>\n",
       "      <td>ham</td>\n",
       "      <td>[yep, by, the, pretty, sculpture]</td>\n",
       "      <td>0</td>\n",
       "      <td>0</td>\n",
       "      <td>0</td>\n",
       "      <td>0</td>\n",
       "      <td>0</td>\n",
       "      <td>0</td>\n",
       "      <td>0</td>\n",
       "      <td>0</td>\n",
       "      <td>...</td>\n",
       "      <td>0</td>\n",
       "      <td>0</td>\n",
       "      <td>0</td>\n",
       "      <td>0</td>\n",
       "      <td>0</td>\n",
       "      <td>0</td>\n",
       "      <td>0</td>\n",
       "      <td>0</td>\n",
       "      <td>0</td>\n",
       "      <td>0</td>\n",
       "    </tr>\n",
       "    <tr>\n",
       "      <th>1</th>\n",
       "      <td>ham</td>\n",
       "      <td>[yes, princess, are, you, going, to, make, me,...</td>\n",
       "      <td>0</td>\n",
       "      <td>0</td>\n",
       "      <td>0</td>\n",
       "      <td>0</td>\n",
       "      <td>0</td>\n",
       "      <td>0</td>\n",
       "      <td>0</td>\n",
       "      <td>0</td>\n",
       "      <td>...</td>\n",
       "      <td>0</td>\n",
       "      <td>0</td>\n",
       "      <td>0</td>\n",
       "      <td>0</td>\n",
       "      <td>0</td>\n",
       "      <td>0</td>\n",
       "      <td>0</td>\n",
       "      <td>0</td>\n",
       "      <td>0</td>\n",
       "      <td>0</td>\n",
       "    </tr>\n",
       "    <tr>\n",
       "      <th>2</th>\n",
       "      <td>ham</td>\n",
       "      <td>[welp, apparently, he, retired]</td>\n",
       "      <td>0</td>\n",
       "      <td>0</td>\n",
       "      <td>0</td>\n",
       "      <td>0</td>\n",
       "      <td>0</td>\n",
       "      <td>0</td>\n",
       "      <td>0</td>\n",
       "      <td>0</td>\n",
       "      <td>...</td>\n",
       "      <td>0</td>\n",
       "      <td>0</td>\n",
       "      <td>0</td>\n",
       "      <td>0</td>\n",
       "      <td>0</td>\n",
       "      <td>0</td>\n",
       "      <td>0</td>\n",
       "      <td>0</td>\n",
       "      <td>0</td>\n",
       "      <td>0</td>\n",
       "    </tr>\n",
       "    <tr>\n",
       "      <th>3</th>\n",
       "      <td>ham</td>\n",
       "      <td>[havent]</td>\n",
       "      <td>0</td>\n",
       "      <td>0</td>\n",
       "      <td>0</td>\n",
       "      <td>0</td>\n",
       "      <td>0</td>\n",
       "      <td>0</td>\n",
       "      <td>0</td>\n",
       "      <td>0</td>\n",
       "      <td>...</td>\n",
       "      <td>0</td>\n",
       "      <td>0</td>\n",
       "      <td>0</td>\n",
       "      <td>0</td>\n",
       "      <td>0</td>\n",
       "      <td>0</td>\n",
       "      <td>0</td>\n",
       "      <td>0</td>\n",
       "      <td>0</td>\n",
       "      <td>0</td>\n",
       "    </tr>\n",
       "    <tr>\n",
       "      <th>4</th>\n",
       "      <td>ham</td>\n",
       "      <td>[i, forgot, 2, ask, ü, all, smth, there, s, a,...</td>\n",
       "      <td>0</td>\n",
       "      <td>0</td>\n",
       "      <td>0</td>\n",
       "      <td>0</td>\n",
       "      <td>0</td>\n",
       "      <td>0</td>\n",
       "      <td>0</td>\n",
       "      <td>0</td>\n",
       "      <td>...</td>\n",
       "      <td>0</td>\n",
       "      <td>0</td>\n",
       "      <td>0</td>\n",
       "      <td>0</td>\n",
       "      <td>0</td>\n",
       "      <td>0</td>\n",
       "      <td>0</td>\n",
       "      <td>0</td>\n",
       "      <td>0</td>\n",
       "      <td>0</td>\n",
       "    </tr>\n",
       "  </tbody>\n",
       "</table>\n",
       "<p>5 rows × 7785 columns</p>\n",
       "</div>"
      ],
      "text/plain": [
       "  label                                                SMS  faggy  andros  \\\n",
       "0   ham                  [yep, by, the, pretty, sculpture]      0       0   \n",
       "1   ham  [yes, princess, are, you, going, to, make, me,...      0       0   \n",
       "2   ham                    [welp, apparently, he, retired]      0       0   \n",
       "3   ham                                           [havent]      0       0   \n",
       "4   ham  [i, forgot, 2, ask, ü, all, smth, there, s, a,...      0       0   \n",
       "\n",
       "   infra  kit  skirt  p  deciding  wavering  ...  failed  hyde  exeter  wrong  \\\n",
       "0      0    0      0  0         0         0  ...       0     0       0      0   \n",
       "1      0    0      0  0         0         0  ...       0     0       0      0   \n",
       "2      0    0      0  0         0         0  ...       0     0       0      0   \n",
       "3      0    0      0  0         0         0  ...       0     0       0      0   \n",
       "4      0    0      0  0         0         0  ...       0     0       0      0   \n",
       "\n",
       "   president  useful  upto  pissed  m95  goin2bed  \n",
       "0          0       0     0       0    0         0  \n",
       "1          0       0     0       0    0         0  \n",
       "2          0       0     0       0    0         0  \n",
       "3          0       0     0       0    0         0  \n",
       "4          0       0     0       0    0         0  \n",
       "\n",
       "[5 rows x 7785 columns]"
      ]
     },
     "execution_count": 17,
     "metadata": {},
     "output_type": "execute_result"
    }
   ],
   "source": [
    "training_data_clean = pd.concat([training_data, word_counts], axis=1)\n",
    "training_data_clean.head()"
   ]
  },
  {
   "cell_type": "markdown",
   "id": "ab1b22e9",
   "metadata": {},
   "source": [
    "We got what we need, we can now start calculating probabilities."
   ]
  },
  {
   "cell_type": "markdown",
   "id": "2315022a",
   "metadata": {},
   "source": [
    "The Naive Bayes algorithm will need to answer these two probability questions-"
   ]
  },
  {
   "attachments": {
    "naive_bayes.png": {
     "image/png": "[encoded data removed]"
    }
   },
   "cell_type": "markdown",
   "id": "5372e137",
   "metadata": {},
   "source": [
    "![naive_bayes.png](attachment:naive_bayes.png)"
   ]
  },
  {
   "cell_type": "markdown",
   "id": "9a9bdba0",
   "metadata": {},
   "source": [
    "The formula formulates this way due to the assumption of conditional independence. Now to compute this formula, the algorithm would need to calculate these formulas - "
   ]
  },
  {
   "attachments": {
    "probability.png": {
     "image/png": "[encoded data removed]"
    }
   },
   "cell_type": "markdown",
   "id": "a6e48ccc",
   "metadata": {},
   "source": [
    "![probability.png](attachment:probability.png)"
   ]
  },
  {
   "cell_type": "markdown",
   "id": "42041439",
   "metadata": {},
   "source": [
    "# Calculating the constants"
   ]
  },
  {
   "cell_type": "markdown",
   "id": "39cba6da",
   "metadata": {},
   "source": [
    "Since some variables will be same throughout our calculations, it makes sense to calculate them first so the computer would not need to calculate them again and again. These variables are - "
   ]
  },
  {
   "attachments": {
    "Screenshot%202023-06-17%20164906.png": {
     "image/png": "[encoded data removed]"
    }
   },
   "cell_type": "markdown",
   "id": "8369262d",
   "metadata": {},
   "source": [
    "![Screenshot%202023-06-17%20164906.png](attachment:Screenshot%202023-06-17%20164906.png)"
   ]
  },
  {
   "cell_type": "markdown",
   "id": "045748b9",
   "metadata": {},
   "source": [
    "We will also be using laplace smoothing and set alpha = 1."
   ]
  },
  {
   "cell_type": "code",
   "execution_count": 18,
   "id": "32bcd131",
   "metadata": {},
   "outputs": [],
   "source": [
    "# isolating the spam and non-spam messages\n",
    "spam_messages = training_data_clean[training_data_clean['label'] == 'spam']\n",
    "ham_messages = training_data_clean[training_data_clean['label'] == 'ham']\n",
    "\n",
    "# calculating P(Spam) and P(Ham)\n",
    "p_spam = len(spam_messages) / len(training_data_clean)\n",
    "p_ham = len(ham_messages) / len(training_data_clean)\n",
    "\n",
    "# calculating N_Spam\n",
    "n_spam_len = spam_messages['SMS'].apply(len)\n",
    "n_spam = n_spam_len.sum()\n",
    "\n",
    "# calculating N_ham\n",
    "n_ham_len = ham_messages['SMS'].apply(len)\n",
    "n_ham = n_ham_len.sum()\n",
    "\n",
    "# calculating N_Vocabualry\n",
    "n_vocabulary = len(vocabulary)\n",
    "\n",
    "# define alpha\n",
    "alpha = 1\n"
   ]
  },
  {
   "cell_type": "markdown",
   "id": "bcff5228",
   "metadata": {},
   "source": [
    "# Calculating parameters"
   ]
  },
  {
   "cell_type": "markdown",
   "id": "442ae3e1",
   "metadata": {},
   "source": [
    "Now that we have calculated the constants, lets calculate P(Wi|Spam) and P(Wi|Ham) for every word in our vocabulary!!"
   ]
  },
  {
   "cell_type": "code",
   "execution_count": 19,
   "id": "2495c9ca",
   "metadata": {},
   "outputs": [],
   "source": [
    "parameters_spam = {unique_word: 0 for unique_word in vocabulary}\n",
    "parameters_ham = {unique_word: 0 for unique_word in vocabulary}\n",
    "\n",
    "# Calculate parameters\n",
    "for word in vocabulary:\n",
    "    n_word_given_spam = spam_messages[word].sum()   # spam_messages already defined in a cell above\n",
    "    p_word_given_spam = (n_word_given_spam + alpha) / (n_spam + (alpha * n_vocabulary))\n",
    "    parameters_spam[word] = p_word_given_spam\n",
    "\n",
    "    n_word_given_ham = ham_messages[word].sum()   # ham_messages already defined in a cell above\n",
    "    p_word_given_ham = (n_word_given_ham + alpha) / (n_ham + (alpha * n_vocabulary))\n",
    "    parameters_ham[word] = p_word_given_ham"
   ]
  },
  {
   "cell_type": "markdown",
   "id": "92cb78d0",
   "metadata": {},
   "source": [
    "# Classifying a new message"
   ]
  },
  {
   "cell_type": "markdown",
   "id": "b94aaa94",
   "metadata": {},
   "source": [
    "Now that we have all our parameters calculated, we can start creating the spam filter. The spam filter can be understood as a function that:\n",
    "\n",
    "Takes in as input a new message (w1, w2, ..., wn).\n",
    "Calculates P(Spam|w1, w2, ..., wn) and P(Ham|w1, w2, ..., wn).\n",
    "Compares the values of P(Spam|w1, w2, ..., wn) and P(Ham|w1, w2, ..., wn), and:\n",
    "* If P(Ham|w1, w2, ..., wn) > P(Spam|w1, w2, ..., wn), then the message is classified as ham.\n",
    "* If P(Ham|w1, w2, ..., wn) < P(Spam|w1, w2, ..., wn), then the message is classified as spam.\n",
    "* If P(Ham|w1, w2, ..., wn) = P(Spam|w1, w2, ..., wn), then the algorithm may request human help."
   ]
  },
  {
   "cell_type": "code",
   "execution_count": 20,
   "id": "1ccb1b89",
   "metadata": {},
   "outputs": [],
   "source": [
    "import re\n",
    "\n",
    "def classify(message):\n",
    "    '''\n",
    "    message: a string\n",
    "    '''\n",
    "    \n",
    "    message = re.sub('\\W', ' ', message)\n",
    "    message = message.lower().split()\n",
    "    \n",
    "    p_spam_given_message = p_spam\n",
    "    p_ham_given_message = p_ham\n",
    "\n",
    "    for word in message:\n",
    "        if word in parameters_spam:\n",
    "            p_spam_given_message *= parameters_spam[word]\n",
    "            \n",
    "        if word in parameters_ham:\n",
    "            p_ham_given_message *= parameters_ham[word]\n",
    "            \n",
    "    print('P(Spam|message):', p_spam_given_message)\n",
    "    print('P(Ham|message):', p_ham_given_message)\n",
    "    \n",
    "    if p_ham_given_message > p_spam_given_message:\n",
    "        print('Label: Ham')\n",
    "    elif p_ham_given_message < p_spam_given_message:\n",
    "        print('Label: Spam')\n",
    "    else:\n",
    "        print('Equal proabilities, have a human classify this!')"
   ]
  },
  {
   "cell_type": "markdown",
   "id": "ccc37199",
   "metadata": {},
   "source": [
    "# Testing with custom messages"
   ]
  },
  {
   "cell_type": "markdown",
   "id": "963e4030",
   "metadata": {},
   "source": [
    "Let's test our newly built spam filter with some custom messages!!"
   ]
  },
  {
   "cell_type": "code",
   "execution_count": 21,
   "id": "f2a75e0f",
   "metadata": {},
   "outputs": [
    {
     "name": "stdout",
     "output_type": "stream",
     "text": [
      "P(Spam|message): 3.9559552020833925e-31\n",
      "P(Ham|message): 1.4809362548585278e-33\n",
      "Label: Spam\n"
     ]
    }
   ],
   "source": [
    "classify('You have won 6 million dollars!!. Click to claim now.')"
   ]
  },
  {
   "cell_type": "code",
   "execution_count": 22,
   "id": "f62ad406",
   "metadata": {},
   "outputs": [
    {
     "name": "stdout",
     "output_type": "stream",
     "text": [
      "P(Spam|message): 5.952479623822477e-32\n",
      "P(Ham|message): 6.4709453143226e-27\n",
      "Label: Ham\n"
     ]
    }
   ],
   "source": [
    "classify('i will meet you there at 6 pm be ready')"
   ]
  },
  {
   "cell_type": "markdown",
   "id": "8ef6de37",
   "metadata": {},
   "source": [
    "Seems like our spam filter is working good on our custom messages. Now let's test it on our test data set which we set aside before which had 1114 messages."
   ]
  },
  {
   "cell_type": "markdown",
   "id": "02033f43",
   "metadata": {},
   "source": [
    "# Measuring the spam filter's accuracy"
   ]
  },
  {
   "cell_type": "markdown",
   "id": "797d4dff",
   "metadata": {},
   "source": [
    "Let's tweak our original function 'classify' a bit so that it only returns a string 'spam' or 'ham'. We will then make a new column in our test_data that has the result of the functions classification."
   ]
  },
  {
   "cell_type": "code",
   "execution_count": 23,
   "id": "e6b3a212",
   "metadata": {},
   "outputs": [],
   "source": [
    "def classify_test(message):\n",
    "    '''\n",
    "    message: a string\n",
    "    '''\n",
    "    \n",
    "    message = re.sub('\\W', ' ', message)\n",
    "    message = message.lower().split()\n",
    "    \n",
    "    p_spam_given_message = p_spam\n",
    "    p_ham_given_message = p_ham\n",
    "\n",
    "    for word in message:\n",
    "        if word in parameters_spam:\n",
    "            p_spam_given_message *= parameters_spam[word]\n",
    "            \n",
    "        if word in parameters_ham:\n",
    "            p_ham_given_message *= parameters_ham[word]\n",
    "    \n",
    "    if p_ham_given_message > p_spam_given_message:\n",
    "        return 'ham'\n",
    "    elif p_ham_given_message < p_spam_given_message:\n",
    "        return 'spam'\n",
    "    else:\n",
    "        return 'equal probabilities'"
   ]
  },
  {
   "cell_type": "code",
   "execution_count": 24,
   "id": "c69c988d",
   "metadata": {},
   "outputs": [],
   "source": [
    "test_data['predicted'] = test_data['SMS'].apply(classify_test)"
   ]
  },
  {
   "cell_type": "code",
   "execution_count": 25,
   "id": "44481c05",
   "metadata": {},
   "outputs": [
    {
     "data": {
      "text/html": [
       "<div>\n",
       "<style scoped>\n",
       "    .dataframe tbody tr th:only-of-type {\n",
       "        vertical-align: middle;\n",
       "    }\n",
       "\n",
       "    .dataframe tbody tr th {\n",
       "        vertical-align: top;\n",
       "    }\n",
       "\n",
       "    .dataframe thead th {\n",
       "        text-align: right;\n",
       "    }\n",
       "</style>\n",
       "<table border=\"1\" class=\"dataframe\">\n",
       "  <thead>\n",
       "    <tr style=\"text-align: right;\">\n",
       "      <th></th>\n",
       "      <th>label</th>\n",
       "      <th>SMS</th>\n",
       "      <th>predicted</th>\n",
       "    </tr>\n",
       "  </thead>\n",
       "  <tbody>\n",
       "    <tr>\n",
       "      <th>4458</th>\n",
       "      <td>ham</td>\n",
       "      <td>Later i guess. I needa do mcat study too.</td>\n",
       "      <td>ham</td>\n",
       "    </tr>\n",
       "    <tr>\n",
       "      <th>4459</th>\n",
       "      <td>ham</td>\n",
       "      <td>But i haf enuff space got like 4 mb...</td>\n",
       "      <td>ham</td>\n",
       "    </tr>\n",
       "    <tr>\n",
       "      <th>4460</th>\n",
       "      <td>spam</td>\n",
       "      <td>Had your mobile 10 mths? Update to latest Oran...</td>\n",
       "      <td>spam</td>\n",
       "    </tr>\n",
       "    <tr>\n",
       "      <th>4461</th>\n",
       "      <td>ham</td>\n",
       "      <td>All sounds good. Fingers . Makes it difficult ...</td>\n",
       "      <td>ham</td>\n",
       "    </tr>\n",
       "    <tr>\n",
       "      <th>4462</th>\n",
       "      <td>ham</td>\n",
       "      <td>All done, all handed in. Don't know if mega sh...</td>\n",
       "      <td>ham</td>\n",
       "    </tr>\n",
       "  </tbody>\n",
       "</table>\n",
       "</div>"
      ],
      "text/plain": [
       "     label                                                SMS predicted\n",
       "4458   ham          Later i guess. I needa do mcat study too.       ham\n",
       "4459   ham             But i haf enuff space got like 4 mb...       ham\n",
       "4460  spam  Had your mobile 10 mths? Update to latest Oran...      spam\n",
       "4461   ham  All sounds good. Fingers . Makes it difficult ...       ham\n",
       "4462   ham  All done, all handed in. Don't know if mega sh...       ham"
      ]
     },
     "execution_count": 25,
     "metadata": {},
     "output_type": "execute_result"
    }
   ],
   "source": [
    "test_data.head()"
   ]
  },
  {
   "cell_type": "markdown",
   "id": "59b5b9ee",
   "metadata": {},
   "source": [
    "Now let's see in how many rows did we get label = predicted"
   ]
  },
  {
   "cell_type": "code",
   "execution_count": 26,
   "id": "f233f4f5",
   "metadata": {},
   "outputs": [],
   "source": [
    "correct = 0\n",
    "total = test_data.shape[0]\n",
    "\n",
    "for row in test_data.iterrows():\n",
    "    row = row[1]\n",
    "    if row['label'] == row['predicted']:\n",
    "        correct += 1"
   ]
  },
  {
   "cell_type": "code",
   "execution_count": 28,
   "id": "bcd08b9f",
   "metadata": {},
   "outputs": [
    {
     "name": "stdout",
     "output_type": "stream",
     "text": [
      "Total correct predictions: 1100\n",
      "Incorrect predictions: 14\n",
      "Accuracy: 0.9874326750448833\n"
     ]
    }
   ],
   "source": [
    "print('Total correct predictions:', correct)\n",
    "print('Incorrect predictions:', total - correct)\n",
    "print('Accuracy:', correct/ total)"
   ]
  },
  {
   "cell_type": "markdown",
   "id": "5133c900",
   "metadata": {},
   "source": [
    "We got 98.74% of our messages correctly labeled by the sapm filter. This is more than our target of 80%. Let's check the 14 messages which got incorrectly labeled and see why could that have happened."
   ]
  },
  {
   "cell_type": "code",
   "execution_count": 40,
   "id": "50914c0e",
   "metadata": {},
   "outputs": [],
   "source": [
    "incorrect_predictions = pd.DataFrame(columns=test_data.columns)\n",
    "\n",
    "for row in test_data.iterrows():\n",
    "    row = row[1]\n",
    "    if row['label'] != row['predicted']:\n",
    "        incorrect_predictions = incorrect_predictions.append(row)"
   ]
  },
  {
   "cell_type": "code",
   "execution_count": 48,
   "id": "f3229d0f",
   "metadata": {},
   "outputs": [
    {
     "name": "stdout",
     "output_type": "stream",
     "text": [
      "4572                                                                                                                                                                                                                                                                                                         Not heard from U4 a while. Call me now am here all night with just my knickers on. Make me beg for it like U did last time 01223585236 XX Luv Nikiyu4.net\n",
      "4593                                                                                                                                                                                                                                                                                                   More people are dogging in your area now. Call 09090204448 and join like minded guys. Why not arrange 1 yourself. There's 1 this evening. A£1.50 minAPN LS278BB\n",
      "4610                                                                                                                                                                                                                                                                                                                                                                                                                                 Unlimited texts. Limited minutes.\n",
      "4617                                                                                                                                                                                                                                                                                                                                                                                                                                                      26th OF JULY\n",
      "4742                                                                                                                                                                                                                                                                                                                                                                                                                                            Nokia phone is lovly..\n",
      "4751    A Boy loved a gal. He propsd bt she didnt mind. He gv lv lttrs, Bt her frnds threw thm. Again d boy decided 2 aproach d gal , dt time a truck was speeding towards d gal. Wn it was about 2 hit d girl,d boy ran like hell n saved her. She asked 'hw cn u run so fast?' D boy replied \"Boost is d secret of my energy\" n instantly d girl shouted \"our energy\" n Thy lived happily 2gthr drinking boost evrydy Moral of d story:- I hv free msgs:D;): gud ni8\n",
      "4760                                                                                                                                                                                                                                                                                                                                                                                                                                  No calls..messages..missed calls\n",
      "4777                                                                                                                                                                                                                                                                                                                                                                 We have sent JD for Customer Service cum Accounts Executive to ur mail id, For details contact us\n",
      "4962                                                                                                                                                                                                                                                                                                                                                        Oh my god! I've found your number again! I'm so glad, text me back xafter this msgs cst std ntwk chg £1.50\n",
      "5004                                                                                                                                                                                                                                                                                                  Hi babe its Chloe, how r u? I was smashed on saturday night, it was great! How was your weekend? U been missing me? SP visionsms.com Text stop to stop 150p/text\n",
      "5199                                                                                                                                                                                                                                                                                                       0A$NETWORKS allow companies to bill for SMS, so they are responsible for their \"suppliers\", just as a shop has to give a guarantee on what they sell. B. G.\n",
      "5334                                                                                                                                                                                                                                                                                                                                                                                                                          RCT' THNQ Adrian for U text. Rgds Vatian\n",
      "5343                                                                                                                                                                                                                                                                                                                                                                                                                                                     2/2 146tf150p\n",
      "5411                                                                                                                                                                                                                                                                                                                            Hello. We need some posh birds and chaps to user trial prods for champneys. Can i put you down? I need your address and dob asap. Ta r\n",
      "Name: SMS, dtype: object\n"
     ]
    }
   ],
   "source": [
    "import pandas as pd\n",
    "pd.set_option('display.max_colwidth', None)\n",
    "print(incorrect_predictions['SMS'])"
   ]
  },
  {
   "cell_type": "markdown",
   "id": "447c4440",
   "metadata": {},
   "source": [
    "Looks like some spam messages were written in a very human like conversation that the algorithm classified them as non-spam. The issue could be fixed with a bigger learning data for the algorithm and making a more complex version of it. For example taking in case-senstivity and punctuations into account."
   ]
  },
  {
   "cell_type": "code",
   "execution_count": null,
   "id": "a5040dc8",
   "metadata": {},
   "outputs": [],
   "source": []
  }
 ],
 "metadata": {
  "kernelspec": {
   "display_name": "Python 3 (ipykernel)",
   "language": "python",
   "name": "python3"
  },
  "language_info": {
   "codemirror_mode": {
    "name": "ipython",
    "version": 3
   },
   "file_extension": ".py",
   "mimetype": "text/x-python",
   "name": "python",
   "nbconvert_exporter": "python",
   "pygments_lexer": "ipython3",
   "version": "3.9.13"
  }
 },
 "nbformat": 4,
 "nbformat_minor": 5
}
